{
 "cells": [
  {
   "cell_type": "markdown",
   "metadata": {},
   "source": [
    "## 01 - Complex maths in single shot"
   ]
  },
  {
   "cell_type": "markdown",
   "metadata": {},
   "source": [
    "ChatGPT goes wrong\n",
    "\n",
    "Human -- if i have 10 pens and 20 errasors, pens are 2 times cost then errasors, my total cost is  40, what is cost of 1 pen ? give one value answer without explanation.\n",
    "\n",
    "AI -- The cost of 1 pen is 4."
   ]
  },
  {
   "cell_type": "markdown",
   "metadata": {},
   "source": [
    "ChatGPT goes correct\n",
    "\n",
    "Human -- if i have 10 pens and 20 errasors, pens are 2 times cost then errasors, my total cost is  40, what is cost of 1 pen ?\n",
    "\n",
    "AI -- This time AI solves step by step , and says ans is the cost of one pen is 2."
   ]
  },
  {
   "cell_type": "markdown",
   "metadata": {},
   "source": [
    "## 02 - Counting"
   ]
  },
  {
   "cell_type": "markdown",
   "metadata": {},
   "source": [
    "ChatGPT goes wrong\n",
    "\n",
    "Human -- how many stars in  **************************************************************** ?\n",
    "\n",
    "AI --It looks like you typed a string of asterisks (******). There are 32 stars in the string you provided. Would you like help with something else?\n",
    "\n",
    "\n",
    "ChatGPT goes correct\n",
    "\n",
    "Human -- how many stars in  **************************************************************** ? use code "
   ]
  },
  {
   "cell_type": "markdown",
   "metadata": {},
   "source": [
    "## 03 -Print every index for letter"
   ]
  },
  {
   "cell_type": "markdown",
   "metadata": {},
   "source": [
    "ChatGPT goes wrong\n",
    "\n",
    "Human - ankushdeshmukh provide me index for s in this string without using code and explaintion, provide index list\n",
    "\n",
    "AI - Here are the indexes where 's' appears in \"ankushdeshmukh\":\n",
    "\n",
    "[3, 7, 10]\n",
    "\n",
    "\n",
    "\n",
    "\n",
    "\n",
    "ChatGPT goes wrong\n",
    "\n",
    "Human - ankushdeshmukh provide me index for s in this string, provide index list, use code\n",
    "\n",
    "AI - The indexes where 's' appears in \"ankushdeshmukh\" are: [4, 8]\n"
   ]
  },
  {
   "cell_type": "markdown",
   "metadata": {},
   "source": []
  }
 ],
 "metadata": {
  "language_info": {
   "name": "python"
  }
 },
 "nbformat": 4,
 "nbformat_minor": 2
}
